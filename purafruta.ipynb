{
 "cells": [
  {
   "cell_type": "markdown",
   "metadata": {},
   "source": [
    "# Pura fruta"
   ]
  },
  {
   "cell_type": "code",
   "execution_count": null,
   "metadata": {
    "hide_input": false
   },
   "outputs": [],
   "source": [
    "from pedidos6 import *\n",
    "import pandas as pd\n",
    "import datetime as dt\n",
    "from reportlab.pdfgen import canvas\n",
    "from reportlab.lib.pagesizes import letter , A4\n",
    "from reportlab.lib.units import cm\n",
    "archivoclientes=\"clientesprueba4.dat\"\n",
    "archivoproductos=\"productosprueba.dat\"\n",
    "archivopedidos=\"pedidosprueba7.dat\""
   ]
  },
  {
   "cell_type": "markdown",
   "metadata": {},
   "source": [
    "## Buscar cliente"
   ]
  },
  {
   "cell_type": "code",
   "execution_count": null,
   "metadata": {
    "hide_input": true,
    "jupyter": {
     "source_hidden": true
    }
   },
   "outputs": [],
   "source": [
    "clientes=pd.read_csv(archivoclientes,sep=';',quotechar=None, quoting=3)\n",
    "pd.set_option('display.max_rows', None)\n",
    "cl=clientes[['nombre','apellido','codigocliente']]\n",
    "codigosrepetidos=[]\n",
    "nombre=input('Nombre: ')\n",
    "#buscar=clientes[clientes['nombre']==nombre.title()]\n",
    "buscar=clientes[clientes['nombre'].str.lower().str.contains(nombre) |\n",
    "               clientes['apellido'].str.lower().str.contains(nombre) | clientes['urbanizacion'].str.lower().str.contains(nombre)]\n",
    "\n",
    "buscar"
   ]
  },
  {
   "cell_type": "markdown",
   "metadata": {},
   "source": [
    "## Ingresar pedido"
   ]
  },
  {
   "cell_type": "code",
   "execution_count": null,
   "metadata": {
    "hide_input": false
   },
   "outputs": [],
   "source": [
    "ingresarPedido6(archivoclientes,archivopedidos,archivoproductos)"
   ]
  },
  {
   "cell_type": "markdown",
   "metadata": {},
   "source": [
    "# Pedidos semana"
   ]
  },
  {
   "cell_type": "code",
   "execution_count": null,
   "metadata": {
    "hide_input": false
   },
   "outputs": [],
   "source": [
    "ano=2020\n",
    "mes=11\n",
    "dia=26\n",
    "hora=0\n",
    "minutos=0"
   ]
  },
  {
   "cell_type": "code",
   "execution_count": null,
   "metadata": {
    "hide_input": true,
    "jupyter": {
     "source_hidden": true
    },
    "scrolled": true
   },
   "outputs": [],
   "source": [
    "\n",
    "%%time\n",
    "productos,precios,costos=sacarInfoProductos(archivoproductos)\n",
    "productoslista=pd.read_csv(archivoproductos,sep=';');\n",
    "#productosdf=productoslista[\"producto\"]\n",
    "#preciosdf=productoslista[\"precio\"]\n",
    "#costosdf=productoslista['costo']\n",
    "#cantidades=[]\n",
    "fechai=dt.datetime(ano,mes,dia,hora,minutos)\n",
    "fechainicio=str(fechai.year)+str(fechai.month)+str(fechai.day)+str(fechai.hour)#fechai.strtime(\"%d%m%y\")\n",
    "fechaf=dt.datetime.today()\n",
    "fechafin=str(fechaf.year)+str(fechaf.month)+str(fechaf.day)#fechaf.strtime(\"%d%m%y\")#str(fecahf.year)+str(fecahf.month)+str(fecahf.day)\n",
    "fechainiciopedidos=dt.datetime.timestamp(fechai)\n",
    "fechafinpedidos=dt.datetime.timestamp(fechaf)\n",
    "nombrearchivoexel=\"pedidos_\"+fechainicio+\"_\"+fechafin+\".xlsx\"\n",
    "#for i in range (len(productos)):\n",
    "#    cantidades.append(0)\n",
    "    \n",
    "#pedidosls=pd.read_csv(archivopedidos,sep=';',quotechar=None, quoting=3)\n",
    "pd.set_option('display.max_rows', None)\n",
    "\n",
    "\n",
    "#columnas1=['Fecha','Nombre','Apellido','Codigo Cliente','Sector','Urbanizacion','Direccion','Total']\n",
    "columnas1=['Fecha','Nombre','Apellido','Codigo Cliente','Telefono','Sector','Urbanizacion','Direccion','Total']\n",
    "\n",
    "columnas2=columnas1+productos\n",
    "tablapedidos=pd.DataFrame(columns=columnas2)\n",
    "pd.set_option('display.max_columns', None)\n",
    "\n",
    "pedidosls2=sacarInfoPedidoFecha5(archivopedidos,fechainiciopedidos,fechafinpedidos)\n",
    "#for pe in pedidosls2:\n",
    "#    print(pe.nombre,pe.apellido,pe.productos)\n",
    "#print(pedidosls2[1].productos)\n",
    "#print(productos)\n",
    "#print(productos.index(pedidosls2[0].productos[0]))\n",
    "\n",
    "for pedido in pedidosls2:\n",
    "    #cantidades=[0 for c in cantidades]\n",
    "    cantidades=[0 for c in range(len(productos))]\n",
    "    precioscl=[0 for c in range(len(productos))]\n",
    "    \n",
    "    ''' \n",
    "    for i in range(len(pedido.productos)):\n",
    "        #print(productos.index(pedido.productos[i]))\n",
    "        cantidades[productos.index(pedido.productos[i])]=pedido.cantidades[i]'''\n",
    "    tablapedidos=tablapedidos.append({columnas2[0]:pedido.fecha,columnas2[1]:pedido.nombre,\n",
    "                                     columnas2[2]:pedido.apellido,columnas2[3]:pedido.codigocliente,\n",
    "                                      columnas2[4]:pedido.telefono,columnas2[5]:pedido.sector,\n",
    "                                     columnas2[6]:pedido.urbanizacion,columnas2[7]:pedido.direccion},\n",
    "                                     ignore_index=True) \n",
    "    \n",
    "    #con funciones anteriores sin numero de telefono\n",
    "    '''tablapedidos=tablapedidos.append({columnas2[0]:pedido.fecha,columnas2[1]:pedido.nombre,\n",
    "                                     columnas2[2]:pedido.apellido,columnas2[3]:pedido.codigocliente,\n",
    "                                      columnas2[4]:pedido.sector,\n",
    "                                     columnas2[5]:pedido.urbanizacion,columnas2[6]:pedido.direccion},ignore_index=True)   \n",
    "    '''\n",
    "    total=0\n",
    "    for producto in pedido.productos:\n",
    "        #print(producto)\n",
    "        \n",
    "        #posproducto=productos.index(producto)#dl pedido en la lsta de productos\n",
    "        #posproductopedido=pedido.productos.index(producto)\n",
    "        #cantidades[posproducto]=pedido.cantidades[posproductopedido]\n",
    "        #precioscl[posproducto]=pedido.precios[posproductopedido]\n",
    "        #print(cantidades,precioscl)\n",
    "        #total+=pedido.cantidades[posproductopedido]*pedido.precios[posproductopedido]\n",
    "        if 'Notas' in producto:\n",
    "            #print(producto[7:])\n",
    "            nota=producto[7:]\n",
    "            tablapedidos.loc[pedidosls2.index(pedido),'Notas']=nota\n",
    "            \n",
    "        elif producto not in productos:\n",
    "            #posproducto=productos.index(producto)#dl pedido en la lsta de productos\n",
    "            posproductopedido=pedido.productos.index(producto)\n",
    "            cantidades[len(productos)-2]=pedido.cantidades[posproductopedido]\n",
    "            precioscl[len(productos)-2]=pedido.precios[posproductopedido]\n",
    "            #print(cantidades,precioscl)\n",
    "            total+=pedido.cantidades[posproductopedido]*pedido.precios[posproductopedido]\n",
    "            #print(pedido.cantidades[posproductopedido])\n",
    "            tablapedidos.at[pedidosls2.index(pedido),'Extras']=pedido.cantidades[posproductopedido]\n",
    "            \n",
    "        \n",
    "            '''\n",
    "            posproductopedido=pedido.productos.index(producto)\n",
    "            cantidades[len(productos)-1]=pedido.cantidades[posproductopedido]\n",
    "            precioscl[len(productos)-1]=pedido.precios[posproductopedido]\n",
    "            tablapedidos.at[pedidosls2.index(pedido),'Notas']=pedido.cantidades[posproductopedido]\n",
    "            print(posproductopedido)'''\n",
    "        \n",
    "        else:\n",
    "            posproducto=productos.index(producto)#dl pedido en la lsta de productos\n",
    "            posproductopedido=pedido.productos.index(producto)\n",
    "            cantidades[posproducto]=pedido.cantidades[posproductopedido]\n",
    "            #print(posproducto)\n",
    "            '''\n",
    "            if isinstance(cantidades[posproducto],str):\n",
    "                pass\n",
    "                #precioscl[posproducto]=pedido.precios[posproductopedido]\n",
    "                #print(cantidades[posproducto])#,precioscl)\n",
    "                #total+=pedido.cantidades[posproductopedido]*pedido.precios[posproductopedido]\n",
    "                #tablapedidos.at[pedidosls2.index(pedido),producto]=(pedido.cantidades[posproductopedido])\n",
    "                \n",
    "            elif isinstance(cantidades[posproducto],float) or isinstance(cantidades[posproducto],int):'''\n",
    "            precioscl[posproducto]=pedido.precios[posproductopedido]\n",
    "            #print(cantidades,precioscl)\n",
    "            total+=pedido.cantidades[posproductopedido]*pedido.precios[posproductopedido]\n",
    "            #print(pedido.cantidades[posproductopedido])\n",
    "            tablapedidos.at[pedidosls2.index(pedido),producto]=pedido.cantidades[posproductopedido]\n",
    "        '''  \n",
    "    for i in range(len(productos)):\n",
    "        if productos[i] in pedido.productos:\n",
    "            posproductopedido=pedido.productos.index(productos[i]) #del pedido\n",
    "            posproducto=productos.index(productos[i])#en la lista de productos\n",
    "            cantidades[posproducto]=pedido.cantidades[posproductopedido]\n",
    "            precioscl[posproducto]=pedido.precios[posproductopedido]\n",
    "            #tablapedidos=tablapedidos.append({productos[i]:cantidades[i]},ignore_index=True)\n",
    "            #print(pedidosls2.index(pedido))\n",
    "            tablapedidos.at[pedidosls2.index(pedido),productos[i]]=cantidades[i]\n",
    "            #print(pedidosls2.index(pedido))\n",
    "            total+=cantidades[i]*precioscl[i]\n",
    "        #elif '''\n",
    "    tablapedidos.at[pedidosls2.index(pedido),'Total']=round(total,2)\n",
    "    #print(cantidades)\n",
    "    \n",
    "    total=0\n",
    "    #for j in range(len(cantidades)):\n",
    "     #   tablapedidos=tablapedidos.append({productos[i]:cantidades[i]},ignore_index=True)\n",
    "    #print(pedido.nombre,pedido.apellido,cantidades)\n",
    "    tablapedidos.fillna(0,inplace=True)\n",
    "#tablapedidos.to_datetime\n",
    "#tablapedidos['Fecha']=tablapedidos.to_datetime(tablapedidos[\"Fecha\"],unit='s')\n",
    "\n",
    "\n",
    "tablapedidos['Fecha'] = pd.to_datetime(tablapedidos['Fecha'],unit='s')\n",
    "#fechas2=tablapedidos['Fecha']\n",
    "tablapedidos['Fecha'] =tablapedidos['Fecha'].dt.date\n",
    "\n",
    "tablapedidos\n",
    "\n",
    "#tablapedidos['Orito'].count()['Total']\n",
    "#pedidosls\n",
    "#tablapedidos.to_excel(nombrearchivoexel,sheet_name='pedidos')\n",
    "#tablapedidos.to_csv(\"p1.txt\")\n",
    "#tablapedidos2.to_csv(\"p2.txt\")"
   ]
  },
  {
   "cell_type": "markdown",
   "metadata": {},
   "source": [
    "### Buscar pedido"
   ]
  },
  {
   "cell_type": "code",
   "execution_count": null,
   "metadata": {
    "hide_input": true,
    "jupyter": {
     "source_hidden": true
    },
    "scrolled": true
   },
   "outputs": [],
   "source": [
    "nombre=input('Nombre: ')\n",
    "#buscar=clientes[clientes['nombre']==nombre.title()]\n",
    "buscar=tablapedidos[tablapedidos['Nombre'].str.lower().str.contains(nombre) |\n",
    "               tablapedidos['Apellido'].str.lower().str.contains(nombre)]\n",
    "\n",
    "buscar"
   ]
  },
  {
   "cell_type": "markdown",
   "metadata": {},
   "source": [
    "## Cambiar pedido"
   ]
  },
  {
   "cell_type": "code",
   "execution_count": null,
   "metadata": {
    "hide_input": false
   },
   "outputs": [],
   "source": [
    "cambiarPedido(tablapedidos,archivopedidos,archivoproductos)"
   ]
  },
  {
   "cell_type": "markdown",
   "metadata": {
    "hide_input": true
   },
   "source": [
    "### Resumen "
   ]
  },
  {
   "cell_type": "code",
   "execution_count": null,
   "metadata": {
    "hide_input": true
   },
   "outputs": [],
   "source": [
    "tablapedidos.sum()"
   ]
  },
  {
   "cell_type": "markdown",
   "metadata": {
    "hide_input": false
   },
   "source": [
    "## Preparacion "
   ]
  },
  {
   "cell_type": "code",
   "execution_count": null,
   "metadata": {
    "hide_input": true,
    "jupyter": {
     "source_hidden": true
    },
    "scrolled": true
   },
   "outputs": [],
   "source": [
    "prodpreparar=['Pina','Papaya','Sandia','Sandia pequena','Miel de abeja',\n",
    "             'Frutillas','Uva rosada','Uvillas','Memerlada Pina','Mermelada Maracuya',\n",
    "             'Mermelada Papaya','Mermelada Frutilla','Cafe 200gr','Extras','Notas']\n",
    "for producto in productos:\n",
    "    if producto not in prodpreparar:\n",
    "        prep=tablapedidos.groupby(by=producto).count()['Total']\n",
    "        print(prep,'\\n')\n",
    "        print('Total '+ producto,':',str(tablapedidos[producto].sum())+'\\n')\n",
    "        #print('Total',prep.sum(),\"\\n\")\n",
    "    #tablapedidos.groupby('Orito').count()['Total']"
   ]
  },
  {
   "cell_type": "markdown",
   "metadata": {
    "hide_input": true
   },
   "source": [
    "## Pedidos semana ordenados "
   ]
  },
  {
   "cell_type": "code",
   "execution_count": null,
   "metadata": {
    "hide_input": true,
    "jupyter": {
     "source_hidden": true
    },
    "scrolled": true
   },
   "outputs": [],
   "source": [
    "#########################################################\n",
    "##########################################################\n",
    "####     PEDIDOS ORDENADOS \n",
    "#########################################################\n",
    "#########################################################\n",
    "productos,precios,costos=sacarInfoProductos(archivoproductos)\n",
    "productoslista=pd.read_csv(archivoproductos,sep=';');\n",
    "productosdf=productoslista[\"producto\"]\n",
    "preciosdf=productoslista[\"precio\"]\n",
    "costosdf=productoslista['costo']\n",
    "#cantidades=[]\n",
    "fechai=dt.datetime(ano,mes,dia,hora,minutos)\n",
    "fechainicio=str(fechai.year)+str(fechai.month)+str(fechai.day)+'-'+str(fechai.hour)#fechai.strtime(\"%d%m%y\")\n",
    "fechaf=dt.datetime.today()\n",
    "fechafin=str(fechaf.year)+str(fechaf.month)+str(fechaf.day)#fechaf.strtime(\"%d%m%y\")#str(fecahf.year)+str(fecahf.month)+str(fecahf.day)\n",
    "nombrearchivoexel=\"pedidos_ordenados_\"+fechainicio+\"_\"+fechafin+\".xlsx\"\n",
    "#for i in range (len(productos)):\n",
    "#    cantidades.append(0)\n",
    "    \n",
    "pedidosls=pd.read_csv(archivopedidos,sep=';',quotechar=None, quoting=3)\n",
    "pd.set_option('display.max_rows', None)\n",
    "\n",
    "\n",
    "#columnas1=['Fecha','Nombre','Apellido','Codigo Cliente','Sector','Urbanizacion','Direccion','Total']\n",
    "columnas1=['Fecha','Nombre','Apellido','Codigo Cliente','Telefono','Sector','Urbanizacion','Direccion','Total']\n",
    "columnas2=columnas1+productos\n",
    "tablapedidos2=pd.DataFrame(columns=columnas2)\n",
    "pd.set_option('display.max_columns', None)\n",
    "\n",
    "#pedidosls2=sacarInfoPedidoFecha4(archivopedidos,fechainiciopedidos,fechafinpedidos)  #pedidos sin  telefono\n",
    "pedidosls2=sacarInfoPedidoFecha5(archivopedidos,fechainiciopedidos,fechafinpedidos)\n",
    "#for pe in pedidosls2:\n",
    "#    print(pe.nombre,pe.apellido,pe.productos)\n",
    "#print(pedidosls2[1].productos)\n",
    "#print(productos)\n",
    "#print(productos.index(pedidosls2[0].productos[0]))\n",
    "clientes=sacarInfoClientes2(archivoclientes)\n",
    "\n",
    "pedidosordenados=ordenarentregas(pedidosls2,clientes)\n",
    "\n",
    "\n",
    "for pedido in pedidosordenados:\n",
    "    #cantidades=[0 for c in cantidades]\n",
    "    cantidades=[0 for c in range(len(productos))]\n",
    "    precioscl=[0 for c in range(len(productos))]\n",
    "    \n",
    "    ''' \n",
    "    for i in range(len(pedido.productos)):\n",
    "        #print(productos.index(pedido.productos[i]))\n",
    "        cantidades[productos.index(pedido.productos[i])]=pedido.cantidades[i]'''\n",
    "    tablapedidos2=tablapedidos2.append({columnas2[0]:pedido.fecha,columnas2[1]:pedido.nombre,\n",
    "                                     columnas2[2]:pedido.apellido,columnas2[3]:pedido.codigocliente,\n",
    "                                      columnas2[4]:pedido.telefono,columnas2[5]:pedido.sector,\n",
    "                                     columnas2[6]:pedido.urbanizacion,columnas2[7]:pedido.direccion},\n",
    "                                     ignore_index=True) \n",
    "    \n",
    "    #con funciones anteriores sin numero de telefono\n",
    "    '''tablapedidos=tablapedidos.append({columnas2[0]:pedido.fecha,columnas2[1]:pedido.nombre,\n",
    "                                     columnas2[2]:pedido.apellido,columnas2[3]:pedido.codigocliente,\n",
    "                                      columnas2[4]:pedido.sector,\n",
    "                                     columnas2[5]:pedido.urbanizacion,columnas2[6]:pedido.direccion},ignore_index=True)   \n",
    "    '''\n",
    "    total=0\n",
    "    for producto in pedido.productos:\n",
    "        #print(producto)\n",
    "        \n",
    "        #posproducto=productos.index(producto)#dl pedido en la lsta de productos\n",
    "        #posproductopedido=pedido.productos.index(producto)\n",
    "        #cantidades[posproducto]=pedido.cantidades[posproductopedido]\n",
    "        #precioscl[posproducto]=pedido.precios[posproductopedido]\n",
    "        #print(cantidades,precioscl)\n",
    "        #total+=pedido.cantidades[posproductopedido]*pedido.precios[posproductopedido]\n",
    "        if 'Notas' in producto:\n",
    "            #print(producto[7:])\n",
    "            nota=producto[7:]\n",
    "            tablapedidos2.loc[pedidosordenados.index(pedido),'Notas']=nota\n",
    "            \n",
    "        elif producto not in productos:\n",
    "            #posproducto=productos.index(producto)#dl pedido en la lsta de productos\n",
    "            posproductopedido=pedido.productos.index(producto)\n",
    "            cantidades[len(productos)-2]=pedido.cantidades[posproductopedido]\n",
    "            precioscl[len(productos)-2]=pedido.precios[posproductopedido]\n",
    "            #print(cantidades,precioscl)\n",
    "            total+=pedido.cantidades[posproductopedido]*pedido.precios[posproductopedido]\n",
    "            #print(pedido.cantidades[posproductopedido])\n",
    "            tablapedidos2.at[pedidosordenados.index(pedido),'Extras']=pedido.cantidades[posproductopedido]\n",
    "            \n",
    "        \n",
    "            '''\n",
    "            posproductopedido=pedido.productos.index(producto)\n",
    "            cantidades[len(productos)-1]=pedido.cantidades[posproductopedido]\n",
    "            precioscl[len(productos)-1]=pedido.precios[posproductopedido]\n",
    "            tablapedidos.at[pedidosls2.index(pedido),'Notas']=pedido.cantidades[posproductopedido]\n",
    "            print(posproductopedido)'''\n",
    "        \n",
    "        else:\n",
    "            posproducto=productos.index(producto)#dl pedido en la lsta de productos\n",
    "            posproductopedido=pedido.productos.index(producto)\n",
    "            cantidades[posproducto]=pedido.cantidades[posproductopedido]\n",
    "            #print(posproducto)\n",
    "            '''\n",
    "            if isinstance(cantidades[posproducto],str):\n",
    "                pass\n",
    "                #precioscl[posproducto]=pedido.precios[posproductopedido]\n",
    "                #print(cantidades[posproducto])#,precioscl)\n",
    "                #total+=pedido.cantidades[posproductopedido]*pedido.precios[posproductopedido]\n",
    "                #tablapedidos.at[pedidosls2.index(pedido),producto]=(pedido.cantidades[posproductopedido])\n",
    "                \n",
    "            elif isinstance(cantidades[posproducto],float) or isinstance(cantidades[posproducto],int):'''\n",
    "            precioscl[posproducto]=pedido.precios[posproductopedido]\n",
    "            #print(cantidades,precioscl)\n",
    "            total+=pedido.cantidades[posproductopedido]*pedido.precios[posproductopedido]\n",
    "            #print(pedido.cantidades[posproductopedido])\n",
    "            tablapedidos2.at[pedidosordenados.index(pedido),producto]=pedido.cantidades[posproductopedido]\n",
    "        '''  \n",
    "    for i in range(len(productos)):\n",
    "        if productos[i] in pedido.productos:\n",
    "            posproductopedido=pedido.productos.index(productos[i]) #del pedido\n",
    "            posproducto=productos.index(productos[i])#en la lista de productos\n",
    "            cantidades[posproducto]=pedido.cantidades[posproductopedido]\n",
    "            precioscl[posproducto]=pedido.precios[posproductopedido]\n",
    "            #tablapedidos=tablapedidos.append({productos[i]:cantidades[i]},ignore_index=True)\n",
    "            #print(pedidosls2.index(pedido))\n",
    "            tablapedidos.at[pedidosls2.index(pedido),productos[i]]=cantidades[i]\n",
    "            #print(pedidosls2.index(pedido))\n",
    "            total+=cantidades[i]*precioscl[i]\n",
    "        #elif '''\n",
    "    tablapedidos2.at[pedidosordenados.index(pedido),'Total']=round(total,2)\n",
    "    #print(cantidades)\n",
    "    \n",
    "    total=0\n",
    "    #for j in range(len(cantidades)):\n",
    "     #   tablapedidos=tablapedidos.append({productos[i]:cantidades[i]},ignore_index=True)\n",
    "    #print(pedido.nombre,pedido.apellido,cantidades)\n",
    "    tablapedidos2.fillna(0,inplace=True)\n",
    "#tablapedidos.to_datetime\n",
    "#tablapedidos['Fecha']=tablapedidos.to_datetime(tablapedidos[\"Fecha\"],unit='s')\n",
    "\n",
    "\n",
    "tablapedidos2['Fecha'] = pd.to_datetime(tablapedidos2['Fecha'],unit='s')\n",
    "#fechas2=tablapedidos['Fecha']\n",
    "tablapedidos2['Fecha'] =tablapedidos2['Fecha'].dt.date\n",
    "\n",
    "tablapedidos2\n",
    "\n",
    "#tablapedidos['Orito'].count()['Total']\n",
    "#pedidosls\n",
    "#tablapedidos.to_excel(nombrearchivoexel,sheet_name='pedidos')\n",
    "#tablapedidos.to_csv(\"p1.txt\")\n",
    "#tablapedidos2.to_csv(\"p2.txt\")"
   ]
  },
  {
   "cell_type": "markdown",
   "metadata": {},
   "source": [
    "### Pedidos en exel"
   ]
  },
  {
   "cell_type": "code",
   "execution_count": null,
   "metadata": {
    "hide_input": true,
    "jupyter": {
     "source_hidden": true
    }
   },
   "outputs": [],
   "source": [
    "nombrearchivoexel=\"pedidos_ordenados_\"+fechainicio+\"_\"+fechafin+\".xlsx\"\n",
    "tablapedidos2.to_excel(nombrearchivoexel,sheet_name='pedidos')\n",
    "print(\"Pedido impresos en: \", nombrearchivoexel)"
   ]
  },
  {
   "cell_type": "markdown",
   "metadata": {},
   "source": [
    "# Imprimir pedidos"
   ]
  },
  {
   "cell_type": "markdown",
   "metadata": {
    "hide_input": true
   },
   "source": [
    "##### Imprimir "
   ]
  },
  {
   "cell_type": "code",
   "execution_count": null,
   "metadata": {
    "hide_input": true,
    "jupyter": {
     "source_hidden": true
    },
    "scrolled": true
   },
   "outputs": [],
   "source": [
    "width,height=A4 \n",
    "fechai=dt.datetime(ano,mes,dia,hora,minutos)\n",
    "fechainicio=str(fechai.year)+str(fechai.month)+str(fechai.day)+'-'+str(fechai.hour)#fechai.strtime(\"%d%m%y\")\n",
    "fechaf=dt.datetime.today()\n",
    "fechafin=str(fechaf.year)+str(fechaf.month)+str(fechaf.day)#fechaf.strtime(\"%d%m%y\")#str(fecahf.year)+str(fecahf.month)+str(fecahf.day)\n",
    "nombrearchivo=\"pedidos_\"+fechainicio+\"_\"+fechafin+\".pdf\"\n",
    "#print(nombrearchivo)\n",
    "fechainiciopedidos=dt.datetime.timestamp(fechai)\n",
    "fechafinpedidos=dt.datetime.timestamp(fechaf)\n",
    "\n",
    "pedidos=sacarInfoPedidoFecha5(archivopedidos,fechainiciopedidos,fechafinpedidos)\n",
    "clientes=sacarInfoClientes2(archivoclientes)\n",
    "\n",
    "pedidosimprimir=ordenarentregas(pedidos,clientes)\n",
    "print(len(pedidosimprimir),len(pedidos),len(clientes))\n",
    "\n",
    "imprimirPedidos3(nombrearchivo,width,height,pedidosimprimir)\n",
    "print(\"Pedido impresos en: \", nombrearchivo)"
   ]
  },
  {
   "cell_type": "markdown",
   "metadata": {
    "hide_input": true
   },
   "source": [
    "# Lista de clientes"
   ]
  },
  {
   "cell_type": "code",
   "execution_count": null,
   "metadata": {
    "hide_input": true,
    "jupyter": {
     "source_hidden": true
    }
   },
   "outputs": [],
   "source": [
    "clientes=pd.read_csv(archivoclientes,sep=';',quotechar=None, quoting=3)\n",
    "pd.set_option('display.max_rows', None)\n",
    "cl=clientes[['nombre','apellido','codigocliente']]\n",
    "codigosrepetidos=[]\n",
    "'''\n",
    "for cli in cl:\n",
    "    if cl['codigocliente'] not in codigosrepetidos:\n",
    "        codigosrepetidos.append(cl['codigocliente'])\n",
    "codigosrepetidos=codigosrepetidos.sort()       \n",
    "print(codigosrepetidos)'''\n",
    "clientes.groupby('codigocliente').count()>1\n",
    "\n",
    "clientes\n"
   ]
  },
  {
   "cell_type": "markdown",
   "metadata": {},
   "source": [
    "# Buscar"
   ]
  },
  {
   "cell_type": "code",
   "execution_count": null,
   "metadata": {
    "hide_input": true,
    "jupyter": {
     "source_hidden": true
    }
   },
   "outputs": [],
   "source": [
    "clientes=pd.read_csv(archivoclientes,sep=';',quotechar=None, quoting=3)\n",
    "pd.set_option('display.max_rows', None)\n",
    "cl=clientes[['nombre','apellido','codigocliente']]\n",
    "codigosrepetidos=[]\n",
    "nombre=input('Nombre: ')\n",
    "#buscar=clientes[clientes['nombre']==nombre.title()]\n",
    "buscar=clientes[clientes['nombre'].str.lower().str.contains(nombre) |\n",
    "               clientes['apellido'].str.lower().str.contains(nombre)]\n",
    "\n",
    "buscar"
   ]
  },
  {
   "cell_type": "markdown",
   "metadata": {},
   "source": [
    "# Registrar cliente"
   ]
  },
  {
   "cell_type": "code",
   "execution_count": null,
   "metadata": {
    "hide_input": false,
    "scrolled": true
   },
   "outputs": [],
   "source": [
    "crearCliente3(archivoclientes)"
   ]
  },
  {
   "cell_type": "markdown",
   "metadata": {
    "hide_input": true
   },
   "source": [
    "# Lista productos "
   ]
  },
  {
   "cell_type": "code",
   "execution_count": null,
   "metadata": {
    "jupyter": {
     "source_hidden": true
    }
   },
   "outputs": [],
   "source": [
    "productoslista=pd.read_csv(archivoproductos,sep=';')\n",
    "productoslista"
   ]
  },
  {
   "cell_type": "markdown",
   "metadata": {
    "hide_input": true
   },
   "source": [
    "# Agregar producto"
   ]
  },
  {
   "cell_type": "code",
   "execution_count": null,
   "metadata": {
    "hide_input": false
   },
   "outputs": [],
   "source": [
    "agregarProducto(archivoproductos)"
   ]
  },
  {
   "cell_type": "code",
   "execution_count": null,
   "metadata": {},
   "outputs": [],
   "source": [
    "eliminarPedido(tablapedidos,'pedidosprueba7 (copy).dat','productosprueba (copy).dat')"
   ]
  },
  {
   "cell_type": "markdown",
   "metadata": {
    "hide_input": true
   },
   "source": [
    "### Fecha inicio"
   ]
  },
  {
   "cell_type": "code",
   "execution_count": null,
   "metadata": {},
   "outputs": [],
   "source": [
    "dir(tablapedidos)"
   ]
  },
  {
   "cell_type": "code",
   "execution_count": null,
   "metadata": {},
   "outputs": [],
   "source": [
    "df = pd.DataFrame([[0, 2, 3], [0, 4, 1], [10, 20, 30]],\n",
    "\n",
    "                  index=[4, 5, 6], columns=['A', 'B', 'C'])\n",
    "df"
   ]
  },
  {
   "cell_type": "code",
   "execution_count": null,
   "metadata": {},
   "outputs": [],
   "source": [
    "df.loc[4,'B']\n",
    "df"
   ]
  },
  {
   "cell_type": "code",
   "execution_count": null,
   "metadata": {
    "hide_input": true
   },
   "outputs": [],
   "source": [
    "productos,precios,costos=sacarInfoProductos(archivoproductos)\n",
    "productoslista=pd.read_csv(archivoproductos,sep=';');\n",
    "productosdf=productoslista[\"producto\"]\n",
    "preciosdf=productoslista[\"precio\"]\n",
    "costosdf=productoslista['costo']\n",
    "\n",
    "fechai=dt.datetime(ano,mes,dia)\n",
    "fechainicio=str(fechai.year)+str(fechai.month)+str(fechai.day)#fechai.strtime(\"%d%m%y\")\n",
    "fechaf=dt.datetime.today()\n",
    "fechafin=str(fechaf.year)+str(fechaf.month)+str(fechaf.day)#fechaf.strtime(\"%d%m%y\")#str(fecahf.year)+str(fecahf.month)+str(fecahf.day)\n",
    "fechainiciopedidos=dt.datetime.timestamp(fechai)\n",
    "fechafinpedidos=dt.datetime.timestamp(fechaf)\n",
    "nombrearchivoexel=\"pedidos_\"+fechainicio+\"_\"+fechafin+\".xlsx\"\n",
    "    \n",
    "pedidosls=pd.read_csv(archivopedidos,sep=';',quotechar=None, quoting=3)\n",
    "pd.set_option('display.max_rows', None)\n",
    "\n",
    "\n",
    "columnas1=['Fecha','Nombre','Apellido','Codigo Cliente','Sector','Urbanizacion','Direccion','Total']\n",
    "columnas2=columnas1+productos\n",
    "tablapedidos=pd.DataFrame(columns=columnas2)\n",
    "pd.set_option('display.max_columns', None)\n",
    "\n",
    "pedidosls2=sacarInfoPedidoFecha4(archivopedidos,fechainiciopedidos,fechafinpedidos)\n",
    "\n",
    "\n",
    "for pedido in pedidosls2:\n",
    "    tablapedidosf(productos,tablapedidos,columnas2,precios,costos,pedidosls2,pedido)\n",
    "\n",
    "    \n",
    "\n",
    "tablapedidos['Fecha'] = pd.to_datetime(tablapedidos['Fecha'],unit='s')\n",
    "tablapedidos['Fecha'] =tablapedidos['Fecha'].dt.date\n",
    "\n",
    "#tablapedidos"
   ]
  },
  {
   "cell_type": "code",
   "execution_count": null,
   "metadata": {
    "hide_input": false
   },
   "outputs": [],
   "source": [
    "fechai=dt.datetime(ano,mes,dia)\n",
    "fechaf=dt.datetime.today()\n",
    "fechainiciopedidos=dt.datetime.timestamp(fechai)\n",
    "fechafinpedidos=dt.datetime.timestamp(fechaf)\n",
    "\n",
    "pedidosls=sacarInfoPedidoFecha4(archivopedidos,fechainiciopedidos,fechafinpedidos)\n",
    "#print(len(ls))\n",
    "#pedidosls"
   ]
  },
  {
   "cell_type": "code",
   "execution_count": null,
   "metadata": {
    "hide_input": false
   },
   "outputs": [],
   "source": [
    "clnuevos=[]\n",
    "cls=[]\n",
    "for cliente in clientes:\n",
    "    cl=cliente.nombre+cliente.apellido\n",
    "    cls.append(cl)\n",
    "for pedido in pedidos:\n",
    "    pncl=pedido.nombre+pedido.apellido\n",
    "    if pncl not in cls:\n",
    "        clnuevos.append(pncl)\n",
    "print(len(clnuevos))\n",
    "\n",
    "print(clnuevos)\n",
    "    \n",
    "    "
   ]
  },
  {
   "cell_type": "code",
   "execution_count": null,
   "metadata": {
    "hide_input": false
   },
   "outputs": [],
   "source": [
    "ano=2020\n",
    "mes=5\n",
    "dia=9"
   ]
  },
  {
   "cell_type": "code",
   "execution_count": null,
   "metadata": {
    "hide_input": false
   },
   "outputs": [],
   "source": [
    "precioaguacates=0.50 #unidades\n",
    "precioorito=1.25 #kg\n",
    "preciomaracuya=1.25 #kg\n",
    "precionaranjas=1 #8uds\n",
    "preciopapaya=0.50 #ud\n",
    "preciopina=1.25 #ud\n",
    "preciosandia=5 #ud\n",
    "preciolimones=1 #10 uds\n",
    "precioverde=0.75 #kg\n",
    "precioplatanos=1.5 #10uds\n",
    "preciomiel=4 #frasco \n",
    "preciomanzanas=1 #5uds\n",
    "precioperas=1 #5uds\n",
    "preciofrutillas=2 #caja 500gr\n",
    "\n",
    "#orden de precios y costos Piña Orito/kg Maracuya/kg Papaya/1\tVerde/1\tSandia/1 Naranja/8 Limones/10 Aguacates\tPlatanos/10 miel\n",
    "productos=[\"Pina\",\"Orito\",\"Maracuya\",\"Papaya\",\"Verde\",\"Sandia\",\"Naranjas\",\"Limones\",\"Aguacates\",\"Platanos\",\"Miel\",\"Manzanas\",\"Peras\",\"Frutillas\"]\n",
    "precios=[preciopina,precioorito,preciomaracuya,preciopapaya,precioverde,preciosandia,precionaranjas,preciolimones,precioaguacates,precioplatanos,preciomiel,preciomanzanas,precioperas,preciofrutillas]\n",
    "costos=[costopina,costoorito,costomaracuya,costopapaya,costoverde,costosandia,costonaranjas,costolimones,costoaguacates,costoplatanos,costomiel,costomanzanas,costoperas,costofrutillas]\n"
   ]
  },
  {
   "cell_type": "code",
   "execution_count": null,
   "metadata": {
    "hide_input": false
   },
   "outputs": [],
   "source": [
    "sacarInfoClientes2(archivoclientes);\n"
   ]
  },
  {
   "cell_type": "code",
   "execution_count": null,
   "metadata": {
    "hide_input": true,
    "scrolled": true
   },
   "outputs": [],
   "source": [
    "%%time\n",
    "pedidosls=pd.read_csv(archivopedidos,sep=';',quotechar=None, quoting=3)\n",
    "pd.set_option('display.max_rows', None)\n",
    "pedidosls['fecha'] = pd.to_datetime(pedidosls['fecha'],unit='s')\n",
    "pedidosls['fecha'] =pedidosls['fecha'].dt.date\n",
    "totales=[0 for i in range(len(pedidosls))]\n",
    "pedidosls.insert(9,'Total',totales)\n",
    "\n",
    "\n",
    "pedidosls"
   ]
  },
  {
   "cell_type": "code",
   "execution_count": null,
   "metadata": {},
   "outputs": [],
   "source": [
    "len(pedidosls)\n",
    " "
   ]
  },
  {
   "cell_type": "markdown",
   "metadata": {},
   "source": [
    "# analisis"
   ]
  },
  {
   "cell_type": "code",
   "execution_count": null,
   "metadata": {
    "scrolled": true
   },
   "outputs": [],
   "source": [
    "tablapedidosanalisis=tablapedidos[['Total','Pina','Orito','Maracuya','Papaya','Verde','Maduro','Sandia',\n",
    "                                   'Naranja','Limones','Aguacates','Platano','Miel de abeja','Manzana roja',\n",
    "                                   'Manzana Verde','Pera',\"Frutillas\",'Uva rosada']]\n",
    "\n",
    "\n",
    "tablapedidosanalisis\n",
    "#tablapedidos"
   ]
  },
  {
   "cell_type": "code",
   "execution_count": null,
   "metadata": {},
   "outputs": [],
   "source": [
    "tablapedidosanalisis.sum()"
   ]
  },
  {
   "cell_type": "code",
   "execution_count": null,
   "metadata": {},
   "outputs": [],
   "source": [
    "#tablapedidosanalisis.drop(['Fecha','Nombre','Apellido','Codigo Cliente','Sector','Urbanizacion','Direccion'],axis=1,inplace=True)\n",
    "#yourdf.drop(['columnheading1', 'columnheading2'], axis=1, inplace=True)\n"
   ]
  },
  {
   "cell_type": "code",
   "execution_count": null,
   "metadata": {
    "scrolled": true
   },
   "outputs": [],
   "source": [
    "filtro=tablapedidosanalisis['Total']<=20\n",
    "filto2=tablapedidosanalisis['Total']>=20\n",
    "canastabasica=tablapedidosanalisis[filtro]\n",
    "canastabasica2=canastabasica['Total']>10\n",
    "canastabasica=canastabasica[canastabasica2]\n",
    "canastabasica"
   ]
  },
  {
   "cell_type": "code",
   "execution_count": null,
   "metadata": {},
   "outputs": [],
   "source": [
    "canastabasica.mean()"
   ]
  },
  {
   "cell_type": "code",
   "execution_count": null,
   "metadata": {},
   "outputs": [],
   "source": [
    "l=[1, 3, 2, 40, 4, 5, 0.5]\n",
    "\n",
    "for i in range(len(l)):\n",
    "    #print(l[i])\n",
    "    for j in range (len(l)):\n",
    "        #print(l[i])\n",
    "\n",
    "        if l[i]<l[j]:\n",
    "            aux=l[i]\n",
    "            l[i]=l[j]\n",
    "            l[j]=aux\n",
    "            #print(l)\n",
    "l"
   ]
  },
  {
   "cell_type": "code",
   "execution_count": null,
   "metadata": {},
   "outputs": [],
   "source": [
    "pedidoo=tablapedidos['Nombre']\n",
    "pedidosord=tablapedidos2['Nombre']\n",
    "ped=[]\n",
    "pedord=[]\n",
    "for p in pedidoo:\n",
    "    ped.append(p)\n",
    "    \n",
    "for p in pedidosord:\n",
    "    pedord.append(p)\n",
    "for p in ped:\n",
    "    if p not in pedord:\n",
    "        print(p)\n",
    "\n",
    "faltan=[]\n",
    "\n",
    "for p in pedidoo:\n",
    "    if p not in pedidosord:\n",
    "        faltan.append(p)\n",
    "\n",
    "\n",
    "tablapedidos['Codigo Cliente'].isin(tablapedidos2['Codigo Cliente']) & tablapedidos['Nombre'].isin(tablapedidos2['Nombre'])"
   ]
  },
  {
   "cell_type": "code",
   "execution_count": null,
   "metadata": {},
   "outputs": [],
   "source": [
    "letras='abcdefghijklemnopqrstuvwxyz'\n",
    "inp=input('letra: ')\n",
    "while inp not in letras:\n",
    "    inp=input('letra: ')\n",
    "\n",
    "    try:\n",
    "        print('l'+n)\n",
    "    except TypeError:\n",
    "        print('solo letras')\n",
    "    except NameError:\n",
    "        print('l no esxite')"
   ]
  },
  {
   "cell_type": "code",
   "execution_count": null,
   "metadata": {},
   "outputs": [],
   "source": [
    "40*1.25\n"
   ]
  },
  {
   "cell_type": "code",
   "execution_count": null,
   "metadata": {
    "hide_input": false,
    "scrolled": true
   },
   "outputs": [],
   "source": [
    "try:\n",
    "    ingresarPedido5(archivoclientes,archivopedidos,archivoproductos)\n",
    "except NameError:\n",
    "    print('falta primera linea')"
   ]
  },
  {
   "cell_type": "code",
   "execution_count": null,
   "metadata": {},
   "outputs": [],
   "source": [
    "print(dt.datetime.timestamp(tablapedidos.iloc[0]['Fecha']),dt.datetime.timestamp(fechas2[0]),tablapedidos.iloc[0]['Nombre'])\n",
    "dt.datetime.timestamp(faechas2[0])==dt.datetime.timestamp(tablapedidos.iloc[0]['Fecha'])"
   ]
  },
  {
   "cell_type": "code",
   "execution_count": null,
   "metadata": {
    "hide_input": true,
    "scrolled": true
   },
   "outputs": [],
   "source": [
    "%%time\n",
    "productos,precios,costos=sacarInfoProductos(archivoproductos)\n",
    "productoslista=pd.read_csv(archivoproductos,sep=';');\n",
    "productosdf=productoslista[\"producto\"]\n",
    "preciosdf=productoslista[\"precio\"]\n",
    "costosdf=productoslista['costo']\n",
    "#cantidades=[]\n",
    "fechai=dt.datetime(ano,mes,dia)\n",
    "fechainicio=str(fechai.year)+str(fechai.month)+str(fechai.day)#fechai.strtime(\"%d%m%y\")\n",
    "fechaf=dt.datetime.today()\n",
    "fechafin=str(fechaf.year)+str(fechaf.month)+str(fechaf.day)#fechaf.strtime(\"%d%m%y\")#str(fecahf.year)+str(fecahf.month)+str(fecahf.day)\n",
    "fechainiciopedidos=dt.datetime.timestamp(fechai)\n",
    "fechafinpedidos=dt.datetime.timestamp(fechaf)\n",
    "nombrearchivoexel=\"pedidos_\"+fechainicio+\"_\"+fechafin+\".xlsx\"\n",
    "#for i in range (len(productos)):\n",
    "#    cantidades.append(0)\n",
    "    \n",
    "#pedidosls=pd.read_csv(archivopedidos,sep=';',quotechar=None, quoting=3)\n",
    "pd.set_option('display.max_rows', None)\n",
    "\n",
    "\n",
    "#columnas1=['Fecha','Nombre','Apellido','Codigo Cliente','Sector','Urbanizacion','Direccion','Total']\n",
    "columnas1=['Fecha','Nombre','Apellido','Codigo Cliente','Telefono','Sector','Urbanizacion','Direccion','Total']\n",
    "\n",
    "columnas2=columnas1+productos\n",
    "tablapedidos=pd.DataFrame(columns=columnas2)\n",
    "pd.set_option('display.max_columns', None)\n",
    "\n",
    "pedidosls2=sacarInfoPedidoFecha5(archivopedidos,fechainiciopedidos,fechafinpedidos)\n",
    "#for pe in pedidosls2:\n",
    "#    print(pe.nombre,pe.apellido,pe.productos)\n",
    "#print(pedidosls2[1].productos)\n",
    "#print(productos)\n",
    "#print(productos.index(pedidosls2[0].productos[0]))\n",
    "\n",
    "for pedido in pedidosls2:\n",
    "    #cantidades=[0 for c in cantidades]\n",
    "    cantidades=[0 for c in range(len(productos))]\n",
    "    precioscl=[0 for c in range(len(productos))]\n",
    "    \n",
    "    ''' \n",
    "    for i in range(len(pedido.productos)):\n",
    "        #print(productos.index(pedido.productos[i]))\n",
    "        cantidades[productos.index(pedido.productos[i])]=pedido.cantidades[i]'''\n",
    "    tablapedidos=tablapedidos.append({columnas2[0]:pedido.fecha,columnas2[1]:pedido.nombre,\n",
    "                                     columnas2[2]:pedido.apellido,columnas2[3]:pedido.codigocliente,\n",
    "                                      columnas2[4]:pedido.telefono,columnas2[5]:pedido.sector,\n",
    "                                     columnas2[6]:pedido.urbanizacion,columnas2[7]:pedido.direccion},\n",
    "                                     ignore_index=True) \n",
    "    \n",
    "    #con funciones anteriores sin numero de telefono\n",
    "    '''tablapedidos=tablapedidos.append({columnas2[0]:pedido.fecha,columnas2[1]:pedido.nombre,\n",
    "                                     columnas2[2]:pedido.apellido,columnas2[3]:pedido.codigocliente,\n",
    "                                      columnas2[4]:pedido.sector,\n",
    "                                     columnas2[5]:pedido.urbanizacion,columnas2[6]:pedido.direccion},ignore_index=True)   \n",
    "    '''\n",
    "    total=0\n",
    "    for i in range(len(productos)):\n",
    "        if productos[i] in pedido.productos:\n",
    "            posproductopedido=pedido.productos.index(productos[i]) #del pedido\n",
    "            posproducto=productos.index(productos[i])#en la lista de productos\n",
    "            cantidades[posproducto]=pedido.cantidades[posproductopedido]\n",
    "            precioscl[posproducto]=pedido.precios[posproductopedido]\n",
    "            #tablapedidos=tablapedidos.append({productos[i]:cantidades[i]},ignore_index=True)\n",
    "            #print(pedidosls2.index(pedido))\n",
    "            tablapedidos.at[pedidosls2.index(pedido),productos[i]]=cantidades[i]\n",
    "            #print(pedidosls2.index(pedido))\n",
    "            total+=cantidades[i]*precioscl[i]\n",
    "        #elif \n",
    "    tablapedidos.at[pedidosls2.index(pedido),'Total']=round(total,2)\n",
    "    #print(cantidades)\n",
    "    \n",
    "    total=0\n",
    "    #for j in range(len(cantidades)):\n",
    "     #   tablapedidos=tablapedidos.append({productos[i]:cantidades[i]},ignore_index=True)\n",
    "    #print(pedido.nombre,pedido.apellido,cantidades)\n",
    "    tablapedidos.fillna(0,inplace=True)\n",
    "#tablapedidos.to_datetime\n",
    "#tablapedidos['Fecha']=tablapedidos.to_datetime(tablapedidos[\"Fecha\"],unit='s')\n",
    "\n",
    "\n",
    "tablapedidos['Fecha'] = pd.to_datetime(tablapedidos['Fecha'],unit='s')\n",
    "#fechas2=tablapedidos['Fecha']\n",
    "tablapedidos['Fecha'] =tablapedidos['Fecha'].dt.date\n",
    "\n",
    "tablapedidos\n",
    "\n",
    "#tablapedidos['Orito'].count()['Total']\n",
    "#pedidosls\n",
    "#tablapedidos.to_excel(nombrearchivoexel,sheet_name='pedidos')\n",
    "#tablapedidos.to_csv(\"p1.txt\")\n",
    "#tablapedidos2.to_csv(\"p2.txt\")"
   ]
  },
  {
   "cell_type": "code",
   "execution_count": null,
   "metadata": {
    "hide_input": false,
    "scrolled": true
   },
   "outputs": [],
   "source": [
    "#########################################################\n",
    "##########################################################\n",
    "####     PEDIDOS SIN NOTAS\n",
    "#########################################################\n",
    "#########################################################\n",
    "%%time\n",
    "productos,precios,costos=sacarInfoProductos(archivoproductos)\n",
    "productoslista=pd.read_csv(archivoproductos,sep=';');\n",
    "productosdf=productoslista[\"producto\"]\n",
    "preciosdf=productoslista[\"precio\"]\n",
    "costosdf=productoslista['costo']\n",
    "#cantidades=[]\n",
    "fechai=dt.datetime(ano,mes,dia,hora,minutos)\n",
    "fechainicio=str(fechai.year)+str(fechai.month)+str(fechai.day)+str(fechai.hour)#fechai.strtime(\"%d%m%y\")\n",
    "fechaf=dt.datetime.today()\n",
    "fechafin=str(fechaf.year)+str(fechaf.month)+str(fechaf.day)#fechaf.strtime(\"%d%m%y\")#str(fecahf.year)+str(fecahf.month)+str(fecahf.day)\n",
    "fechainiciopedidos=dt.datetime.timestamp(fechai)\n",
    "fechafinpedidos=dt.datetime.timestamp(fechaf)\n",
    "nombrearchivoexel=\"pedidos_\"+fechainicio+\"_\"+fechafin+\".xlsx\"\n",
    "#for i in range (len(productos)):\n",
    "#    cantidades.append(0)\n",
    "    \n",
    "#pedidosls=pd.read_csv(archivopedidos,sep=';',quotechar=None, quoting=3)\n",
    "pd.set_option('display.max_rows', None)\n",
    "\n",
    "\n",
    "#columnas1=['Fecha','Nombre','Apellido','Codigo Cliente','Sector','Urbanizacion','Direccion','Total']\n",
    "columnas1=['Fecha','Nombre','Apellido','Codigo Cliente','Telefono','Sector','Urbanizacion','Direccion','Total']\n",
    "\n",
    "columnas2=columnas1+productos\n",
    "tablapedidos=pd.DataFrame(columns=columnas2)\n",
    "pd.set_option('display.max_columns', None)\n",
    "\n",
    "pedidosls2=sacarInfoPedidoFecha5(archivopedidos,fechainiciopedidos,fechafinpedidos)\n",
    "#for pe in pedidosls2:\n",
    "#    print(pe.nombre,pe.apellido,pe.productos)\n",
    "#print(pedidosls2[1].productos)\n",
    "#print(productos)\n",
    "#print(productos.index(pedidosls2[0].productos[0]))\n",
    "\n",
    "for pedido in pedidosls2:\n",
    "    #cantidades=[0 for c in cantidades]\n",
    "    cantidades=[0 for c in range(len(productos))]\n",
    "    precioscl=[0 for c in range(len(productos))]\n",
    "    \n",
    "    ''' \n",
    "    for i in range(len(pedido.productos)):\n",
    "        #print(productos.index(pedido.productos[i]))\n",
    "        cantidades[productos.index(pedido.productos[i])]=pedido.cantidades[i]'''\n",
    "    tablapedidos=tablapedidos.append({columnas2[0]:pedido.fecha,columnas2[1]:pedido.nombre,\n",
    "                                     columnas2[2]:pedido.apellido,columnas2[3]:pedido.codigocliente,\n",
    "                                      columnas2[4]:pedido.telefono,columnas2[5]:pedido.sector,\n",
    "                                     columnas2[6]:pedido.urbanizacion,columnas2[7]:pedido.direccion},\n",
    "                                     ignore_index=True) \n",
    "    \n",
    "    #con funciones anteriores sin numero de telefono\n",
    "    '''tablapedidos=tablapedidos.append({columnas2[0]:pedido.fecha,columnas2[1]:pedido.nombre,\n",
    "                                     columnas2[2]:pedido.apellido,columnas2[3]:pedido.codigocliente,\n",
    "                                      columnas2[4]:pedido.sector,\n",
    "                                     columnas2[5]:pedido.urbanizacion,columnas2[6]:pedido.direccion},ignore_index=True)   \n",
    "    '''\n",
    "    total=0\n",
    "    for producto in pedido.productos:\n",
    "        #print(producto)\n",
    "        \n",
    "        #posproducto=productos.index(producto)#dl pedido en la lsta de productos\n",
    "        #posproductopedido=pedido.productos.index(producto)\n",
    "        #cantidades[posproducto]=pedido.cantidades[posproductopedido]\n",
    "        #precioscl[posproducto]=pedido.precios[posproductopedido]\n",
    "        #print(cantidades,precioscl)\n",
    "        #total+=pedido.cantidades[posproductopedido]*pedido.precios[posproductopedido]\n",
    "        if producto not in productos:\n",
    "            #posproducto=productos.index(producto)#dl pedido en la lsta de productos\n",
    "            posproductopedido=pedido.productos.index(producto)\n",
    "            cantidades[len(productos)-1]=pedido.cantidades[posproductopedido]\n",
    "            precioscl[len(productos)-1]=pedido.precios[posproductopedido]\n",
    "            #print(cantidades,precioscl)\n",
    "            total+=pedido.cantidades[posproductopedido]*pedido.precios[posproductopedido]\n",
    "            tablapedidos.at[pedidosls2.index(pedido),'Extras']=pedido.cantidades[posproductopedido]\n",
    "        \n",
    "        else:\n",
    "            posproducto=productos.index(producto)#dl pedido en la lsta de productos\n",
    "            posproductopedido=pedido.productos.index(producto)\n",
    "            cantidades[posproducto]=pedido.cantidades[posproductopedido]\n",
    "            #print(posproducto)\n",
    "            '''\n",
    "            if isinstance(cantidades[posproducto],str):\n",
    "                pass\n",
    "                #precioscl[posproducto]=pedido.precios[posproductopedido]\n",
    "                #print(cantidades[posproducto])#,precioscl)\n",
    "                #total+=pedido.cantidades[posproductopedido]*pedido.precios[posproductopedido]\n",
    "                #tablapedidos.at[pedidosls2.index(pedido),producto]=(pedido.cantidades[posproductopedido])\n",
    "                \n",
    "            elif isinstance(cantidades[posproducto],float) or isinstance(cantidades[posproducto],int):'''\n",
    "            precioscl[posproducto]=pedido.precios[posproductopedido]\n",
    "            #print(cantidades,precioscl)\n",
    "            total+=pedido.cantidades[posproductopedido]*pedido.precios[posproductopedido]\n",
    "            tablapedidos.at[pedidosls2.index(pedido),producto]=pedido.cantidades[posproductopedido]\n",
    "        '''  \n",
    "    for i in range(len(productos)):\n",
    "        if productos[i] in pedido.productos:\n",
    "            posproductopedido=pedido.productos.index(productos[i]) #del pedido\n",
    "            posproducto=productos.index(productos[i])#en la lista de productos\n",
    "            cantidades[posproducto]=pedido.cantidades[posproductopedido]\n",
    "            precioscl[posproducto]=pedido.precios[posproductopedido]\n",
    "            #tablapedidos=tablapedidos.append({productos[i]:cantidades[i]},ignore_index=True)\n",
    "            #print(pedidosls2.index(pedido))\n",
    "            tablapedidos.at[pedidosls2.index(pedido),productos[i]]=cantidades[i]\n",
    "            #print(pedidosls2.index(pedido))\n",
    "            total+=cantidades[i]*precioscl[i]\n",
    "        #elif '''\n",
    "    tablapedidos.at[pedidosls2.index(pedido),'Total']=round(total,2)\n",
    "    #print(cantidades)\n",
    "    \n",
    "    total=0\n",
    "    #for j in range(len(cantidades)):\n",
    "     #   tablapedidos=tablapedidos.append({productos[i]:cantidades[i]},ignore_index=True)\n",
    "    #print(pedido.nombre,pedido.apellido,cantidades)\n",
    "    tablapedidos.fillna(0,inplace=True)\n",
    "#tablapedidos.to_datetime\n",
    "#tablapedidos['Fecha']=tablapedidos.to_datetime(tablapedidos[\"Fecha\"],unit='s')\n",
    "\n",
    "\n",
    "tablapedidos['Fecha'] = pd.to_datetime(tablapedidos['Fecha'],unit='s')\n",
    "#fechas2=tablapedidos['Fecha']\n",
    "tablapedidos['Fecha'] =tablapedidos['Fecha'].dt.date\n",
    "\n",
    "tablapedidos\n",
    "\n",
    "#tablapedidos['Orito'].count()['Total']\n",
    "#pedidosls\n",
    "#tablapedidos.to_excel(nombrearchivoexel,sheet_name='pedidos')\n",
    "#tablapedidos.to_csv(\"p1.txt\")\n",
    "#tablapedidos2.to_csv(\"p2.txt\")"
   ]
  },
  {
   "cell_type": "code",
   "execution_count": null,
   "metadata": {
    "hide_input": true,
    "scrolled": true
   },
   "outputs": [],
   "source": [
    "#########################################################\n",
    "##########################################################\n",
    "####     PEDIDOS ORDENADOS SIN NOTAS\n",
    "#########################################################\n",
    "#########################################################\n",
    "productos,precios,costos=sacarInfoProductos(archivoproductos)\n",
    "productoslista=pd.read_csv(archivoproductos,sep=';');\n",
    "productosdf=productoslista[\"producto\"]\n",
    "preciosdf=productoslista[\"precio\"]\n",
    "costosdf=productoslista['costo']\n",
    "#cantidades=[]\n",
    "fechai=dt.datetime(ano,mes,dia,hora,minutos)\n",
    "fechainicio=str(fechai.year)+str(fechai.month)+str(fechai.day)#fechai.strtime(\"%d%m%y\")\n",
    "fechaf=dt.datetime.today()\n",
    "fechafin=str(fechaf.year)+str(fechaf.month)+str(fechaf.day)#fechaf.strtime(\"%d%m%y\")#str(fecahf.year)+str(fecahf.month)+str(fecahf.day)\n",
    "nombrearchivoexel=\"pedidos_ordenados_\"+fechainicio+\"_\"+fechafin+\".xlsx\"\n",
    "#for i in range (len(productos)):\n",
    "#    cantidades.append(0)\n",
    "    \n",
    "pedidosls=pd.read_csv(archivopedidos,sep=';',quotechar=None, quoting=3)\n",
    "pd.set_option('display.max_rows', None)\n",
    "\n",
    "\n",
    "#columnas1=['Fecha','Nombre','Apellido','Codigo Cliente','Sector','Urbanizacion','Direccion','Total']\n",
    "columnas1=['Fecha','Nombre','Apellido','Codigo Cliente','Telefono','Sector','Urbanizacion','Direccion','Total']\n",
    "columnas2=columnas1+productos\n",
    "tablapedidos2=pd.DataFrame(columns=columnas2)\n",
    "pd.set_option('display.max_columns', None)\n",
    "\n",
    "#pedidosls2=sacarInfoPedidoFecha4(archivopedidos,fechainiciopedidos,fechafinpedidos)  #pedidos sin  telefono\n",
    "pedidosls2=sacarInfoPedidoFecha5(archivopedidos,fechainiciopedidos,fechafinpedidos)\n",
    "#for pe in pedidosls2:\n",
    "#    print(pe.nombre,pe.apellido,pe.productos)\n",
    "#print(pedidosls2[1].productos)\n",
    "#print(productos)\n",
    "#print(productos.index(pedidosls2[0].productos[0]))\n",
    "clientes=sacarInfoClientes2(archivoclientes)\n",
    "\n",
    "pedidosordenados=ordenarentregas(pedidosls2,clientes)\n",
    "\n",
    "\n",
    "for pedido in pedidosordenados:\n",
    "    #cantidades=[0 for c in cantidades]\n",
    "    cantidades=[0 for c in range(len(productos))]\n",
    "    precioscl=[0 for c in range(len(productos))]\n",
    "    \n",
    "    #pedidos clase anterios sin telefono\n",
    "    '''\n",
    "    for i in range(len(pedido.productos)):\n",
    "        #print(productos.index(pedido.productos[i]))\n",
    "        cantidades[productos.index(pedido.productos[i])]=pedido.cantidades[i]'''\n",
    "    '''tablapedidos2=tablapedidos2.append({columnas2[0]:pedido.fecha,columnas2[1]:pedido.nombre,\n",
    "                                     columnas2[2]:pedido.apellido,columnas2[3]:pedido.codigocliente,\n",
    "                                    columnas2[4]:pedido.sector,\n",
    "                                     columnas2[5]:pedido.urbanizacion,columnas2[6]:pedido.direccion},\n",
    "                                    ignore_index=True) '''\n",
    "    tablapedidos2=tablapedidos2.append({columnas2[0]:pedido.fecha,columnas2[1]:pedido.nombre,\n",
    "                                     columnas2[2]:pedido.apellido,columnas2[3]:pedido.codigocliente,\n",
    "                                      columnas2[4]:pedido.telefono,columnas2[5]:pedido.sector,\n",
    "                                     columnas2[6]:pedido.urbanizacion,columnas2[7]:pedido.direccion},\n",
    "                                     ignore_index=True)\n",
    "    total=0\n",
    "    for i in range(len(productos)):\n",
    "        \n",
    "        if productos[i] in pedido.productos:\n",
    "            posproductopedido=pedido.productos.index(productos[i]) #del pedido\n",
    "            posproducto=productos.index(productos[i])#en la lista de productos\n",
    "            cantidades[posproducto]=pedido.cantidades[posproductopedido]\n",
    "            precioscl[posproducto]=pedido.precios[posproductopedido]\n",
    "\n",
    "            #tablapedidos=tablapedidos.append({productos[i]:cantidades[i]},ignore_index=True)\n",
    "            #print(pedidosls2.index(pedido))\n",
    "            tablapedidos2.at[pedidosordenados.index(pedido),productos[i]]=cantidades[i]\n",
    "            total+=cantidades[i]*precioscl[i]\n",
    "    tablapedidos2.at[pedidosordenados.index(pedido),'Total']=round(total,2)\n",
    "    #print(cantidades)\n",
    "    \n",
    "    total=0\n",
    "    #for j in range(len(cantidades)):\n",
    "     #   tablapedidos=tablapedidos.append({productos[i]:cantidades[i]},ignore_index=True)\n",
    "    #print(pedido.nombre,pedido.apellido,cantidades)\n",
    "tablapedidos2.fillna(0,inplace=True)\n",
    "#tablapedidos.to_datetime\n",
    "#tablapedidos['Fecha']=tablapedidos.to_datetime(tablapedidos[\"Fecha\"],unit='s')\n",
    "tablapedidos2['Fecha'] = pd.to_datetime(tablapedidos2['Fecha'],unit='s').dt.date\n",
    "#tablapedidos2['Fecha'] =tablapedidos2['Fecha'].dt.date\n",
    "tablapedidos2\n",
    "'''len(pedidosordenados)\n",
    "for pe in pedidosls2:\n",
    "    if pe not in pedidosordenados:\n",
    "        print(pe.nombre,pe.apellido)'''\n",
    "#tablapedidos2.to_excel(nombrearchivoexel,sheet_name='pedidos')\n",
    "#(pedidosordenados.apellido)\n",
    "#pedidosls2.nombre\n",
    "#tablapedidos2.count()\n",
    "tablapedidos2"
   ]
  },
  {
   "cell_type": "code",
   "execution_count": null,
   "metadata": {},
   "outputs": [],
   "source": [
    "p=tablapedidos.iloc[3]\n",
    "fecha=p['Fecha']\n",
    "f_min=dt.datetime.min.time()\n",
    "f=dt.datetime.combine(fecha,f_min)\n",
    "dt.datetime.timestamp(f)\n",
    "fecha==f.date()\n",
    "fecha"
   ]
  },
  {
   "cell_type": "code",
   "execution_count": null,
   "metadata": {},
   "outputs": [],
   "source": [
    "timestamp = 1599971936.106044\n",
    "dt_object = dt.datetime.fromtimestamp(timestamp).date()\n",
    "dt_object\n",
    "fecha"
   ]
  }
 ],
 "metadata": {
  "kernelspec": {
   "display_name": "Python 3",
   "language": "python",
   "name": "python3"
  },
  "language_info": {
   "codemirror_mode": {
    "name": "ipython",
    "version": 3
   },
   "file_extension": ".py",
   "mimetype": "text/x-python",
   "name": "python",
   "nbconvert_exporter": "python",
   "pygments_lexer": "ipython3",
   "version": "3.7.4"
  }
 },
 "nbformat": 4,
 "nbformat_minor": 4
}
